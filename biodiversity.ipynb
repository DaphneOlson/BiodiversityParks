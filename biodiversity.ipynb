{
 "cells": [
  {
   "cell_type": "code",
   "execution_count": 115,
   "metadata": {},
   "outputs": [
    {
     "name": "stdout",
     "output_type": "stream",
     "text": [
      "            scientific_name                            park_name  observations\n",
      "0        Vicia benghalensis  Great Smoky Mountains National Park            68\n",
      "1            Neovison vison  Great Smoky Mountains National Park            77\n",
      "2         Prunus subcordata               Yosemite National Park           138\n",
      "3      Abutilon theophrasti                  Bryce National Park            84\n",
      "4  Githopsis specularioides  Great Smoky Mountains National Park            85\n",
      "Index(['scientific_name', 'park_name', 'observations'], dtype='object')\n",
      "  category                scientific_name  \\\n",
      "0   Mammal  Clethrionomys gapperi gapperi   \n",
      "1   Mammal                      Bos bison   \n",
      "2   Mammal                     Bos taurus   \n",
      "3   Mammal                     Ovis aries   \n",
      "4   Mammal                 Cervus elaphus   \n",
      "\n",
      "                                        common_names conservation_status  \n",
      "0                           Gapper's Red-Backed Vole                 NaN  \n",
      "1                              American Bison, Bison                 NaN  \n",
      "2  Aurochs, Aurochs, Domestic Cattle (Feral), Dom...                 NaN  \n",
      "3  Domestic Sheep, Mouflon, Red Sheep, Sheep (Feral)                 NaN  \n",
      "4                                      Wapiti Or Elk                 NaN  \n",
      "Index(['category', 'scientific_name', 'common_names', 'conservation_status'], dtype='object')\n",
      "['No Intervention' 'Species of Concern' 'Endangered' 'Threatened'\n",
      " 'In Recovery']\n",
      "observations shape: (23296, 3)\n",
      "species shape: (5824, 4)\n"
     ]
    }
   ],
   "source": [
    "import numpy as np\n",
    "import matplotlib.pyplot as plt\n",
    "import seaborn as sns\n",
    "import pandas as pd\n",
    "\n",
    "observations = pd.read_csv(\"observations.csv\")\n",
    "species = pd.read_csv(\"species_info.csv\")\n",
    "\n",
    "print(observations.head())\n",
    "print(observations.columns)\n",
    "# Index(['scientific_name', 'park_name', 'observations'], dtype='object')\n",
    "print(species.head())\n",
    "print(species.columns)\n",
    "# Index(['category', 'scientific_name', 'common_names', 'conservation_status'], dtype='object')\n",
    "\n",
    "#convert nan to No Intervention\n",
    "species[\"conservation_status\"].fillna(\"No Intervention\", inplace = True)\n",
    "print(species[\"conservation_status\"].unique())\n",
    "\n",
    "print(f\"observations shape: {observations.shape}\")\n",
    "print(f\"species shape: {species.shape}\")\n",
    "\n",
    "# all_data = observations.join(species.set_index(\"scientific_name\"), on=\"scientific_name\")\n",
    "# print(all_data.head())\n",
    "# print(all_data.columns)\n",
    "# Index(['scientific_name', 'park_name', 'observations', 'category', 'common_names', 'conservation_status']"
   ]
  },
  {
   "cell_type": "code",
   "execution_count": 116,
   "metadata": {},
   "outputs": [
    {
     "data": {
      "text/plain": [
       "\"\\nQuestions to answer\\n- What is the distribution of conservation status for species?\\n- Are certain types of species more likely to be endangered?\\n- Are the differences between species and their conservation status significant?\\n- Which animal is most prevalent and what is their distribution amongst parks?\\nQuestions:\\n-How many species are there?\\n-Are there clusters or types of those species to group them?\\n-Is there a major type of endangerment for those overarching clusters?\\n-What types of endangered are there? [nan 'Species of Concern' 'Endangered' 'Threatened' 'In Recovery']\\n-Is there a generic action to take for each largest represented species in each endangered category?\\n\\nFigures:\\n-Bar chart of each species for each type of endangerment\\n\\n\""
      ]
     },
     "execution_count": 116,
     "metadata": {},
     "output_type": "execute_result"
    }
   ],
   "source": [
    "'''\n",
    "Questions to answer\n",
    "- What is the distribution of conservation status for species?\n",
    "- Are certain types of species more likely to be endangered?\n",
    "- Are the differences between species and their conservation status significant?\n",
    "- Which animal is most prevalent and what is their distribution amongst parks?\n",
    "Questions:\n",
    "-How many species are there?\n",
    "-Are there clusters or types of those species to group them?\n",
    "-Is there a major type of endangerment for those overarching clusters?\n",
    "-What types of endangered are there? [nan 'Species of Concern' 'Endangered' 'Threatened' 'In Recovery']\n",
    "-Is there a generic action to take for each largest represented species in each endangered category?\n",
    "\n",
    "Figures:\n",
    "-Bar chart of each species for each type of endangerment\n",
    "\n",
    "'''"
   ]
  },
  {
   "cell_type": "code",
   "execution_count": 117,
   "metadata": {},
   "outputs": [
    {
     "name": "stdout",
     "output_type": "stream",
     "text": [
      "Species of Concern    161\n",
      "Endangered             16\n",
      "Threatened             10\n",
      "In Recovery             4\n",
      "Name: conservation_status, dtype: int64\n"
     ]
    },
    {
     "data": {
      "image/png": "[encoded data removed]",
      "text/plain": [
       "<Figure size 432x288 with 1 Axes>"
      ]
     },
     "metadata": {
      "needs_background": "light"
     },
     "output_type": "display_data"
    },
    {
     "name": "stdout",
     "output_type": "stream",
     "text": [
      "unique species categories: ['Mammal' 'Bird' 'Reptile' 'Amphibian' 'Fish' 'Vascular Plant'\n",
      " 'Nonvascular Plant']\n",
      "unique parks: ['Great Smoky Mountains National Park' 'Yosemite National Park'\n",
      " 'Bryce National Park' 'Yellowstone National Park']\n",
      "number of observations total in parks: 3314739\n"
     ]
    },
    {
     "data": {
      "text/plain": [
       "<Figure size 432x288 with 0 Axes>"
      ]
     },
     "metadata": {},
     "output_type": "display_data"
    }
   ],
   "source": [
    "#endangered species count overall\n",
    "endangered = species[species.conservation_status != \"No Intervention\"]\n",
    "print(endangered[\"conservation_status\"].value_counts())\n",
    "status_labels = ['Species of Concern', 'Endangered', 'Threatened', 'In Recovery']\n",
    "plt.bar(status_labels, endangered[\"conservation_status\"].value_counts())\n",
    "plt.show()\n",
    "plt.clf()\n",
    "\n",
    "print(f\"unique species categories: {species.category.unique()}\")\n",
    "print(f\"unique parks: {observations.park_name.unique()}\")\n",
    "print(f\"number of observations total in parks: {observations.observations.sum()}\")\n",
    "\n"
   ]
  },
  {
   "cell_type": "code",
   "execution_count": 118,
   "metadata": {},
   "outputs": [
    {
     "data": {
      "image/png": "[encoded data removed]",
      "text/plain": [
       "<Figure size 432x288 with 1 Axes>"
      ]
     },
     "metadata": {
      "needs_background": "light"
     },
     "output_type": "display_data"
    }
   ],
   "source": [
    "endangered = species[species.conservation_status != \"No Intervention\"]\\\n",
    "    .groupby([\"conservation_status\", \"category\"])[\"scientific_name\"]\\\n",
    "    .count()\\\n",
    "    .unstack()\n",
    "\n",
    "ax = endangered.plot(kind=\"bar\", stacked=True)\n",
    "ax.set_xlabel(\"Conservation Status\")\n",
    "ax.set_ylabel(\"Number of Species\")\n",
    "plt.show()"
   ]
  },
  {
   "cell_type": "code",
   "execution_count": 119,
   "metadata": {},
   "outputs": [
    {
     "name": "stdout",
     "output_type": "stream",
     "text": [
      "            category  not_protected  protected\n",
      "0          Amphibian             72          7\n",
      "1               Bird            413         75\n",
      "2               Fish            115         11\n",
      "3             Mammal            146         30\n",
      "4  Nonvascular Plant            328          5\n",
      "5            Reptile             73          5\n",
      "6     Vascular Plant           4216         46\n",
      "True\n"
     ]
    }
   ],
   "source": [
    "species[\"is_protected\"] = species.conservation_status != \"No Intervention\"\n",
    "\n",
    "category_counts = species.groupby([\"category\", \"is_protected\"])\\\n",
    "    .scientific_name.nunique()\\\n",
    "    .reset_index()\\\n",
    "    .pivot(columns=\"is_protected\",\n",
    "              index=\"category\",\n",
    "              values=\"scientific_name\")\\\n",
    "    .reset_index()\n",
    "category_counts.columns = [\"category\", \"not_protected\", \"protected\"]\n",
    "\n",
    "print(category_counts)\n",
    "print(type(category_counts) is pd.DataFrame)"
   ]
  },
  {
   "cell_type": "code",
   "execution_count": 120,
   "metadata": {},
   "outputs": [
    {
     "name": "stdout",
     "output_type": "stream",
     "text": [
      "            category  not_protected  protected  percent_protected\n",
      "0          Amphibian             72          7           8.860759\n",
      "1               Bird            413         75          15.368852\n",
      "2               Fish            115         11           8.730159\n",
      "3             Mammal            146         30          17.045455\n",
      "4  Nonvascular Plant            328          5           1.501502\n",
      "5            Reptile             73          5           6.410256\n",
      "6     Vascular Plant           4216         46           1.079305\n"
     ]
    }
   ],
   "source": [
    "#make counts into relative percents\n",
    "category_counts[\"percent_protected\"] = 100 * (category_counts.protected/ \\\n",
    "                                    (category_counts.protected + category_counts.not_protected))\n",
    "print(category_counts)\n",
    "# Note Mammal 17%, Bird 15%, Amphibian/Fish around 8% each, Reptile at 6%\n"
   ]
  },
  {
   "cell_type": "code",
   "execution_count": 121,
   "metadata": {},
   "outputs": [
    {
     "name": "stdout",
     "output_type": "stream",
     "text": [
      "(0.16170148316545574, 0.6875948096661336, 1, array([[ 77.1686747, 410.8313253],\n",
      "       [ 27.8313253, 148.1686747]]))\n"
     ]
    }
   ],
   "source": [
    "#Are mammal and bird protection rates as similar as they appear?\n",
    "from scipy.stats import chi2_contingency\n",
    "\n",
    "contingency1 = [[75, 413],\n",
    "               [30, 146]]\n",
    "print(chi2_contingency(contingency1))\n",
    "#p value is 0.69 so fail to reject null hypothesis they are significantly different"
   ]
  },
  {
   "cell_type": "code",
   "execution_count": 122,
   "metadata": {},
   "outputs": [
    {
     "name": "stdout",
     "output_type": "stream",
     "text": [
      "(2.321746712946015, 0.12757669693198975, 1, array([[ 11.4627451,  67.5372549],\n",
      "       [ 25.5372549, 150.4627451]]))\n"
     ]
    }
   ],
   "source": [
    "#Are mammal and amphibian protection rates as similar as they appear?\n",
    "from scipy.stats import chi2_contingency\n",
    "\n",
    "contingency2 = [[7, 72],\n",
    "               [30, 146]]\n",
    "print(chi2_contingency(contingency2))\n",
    "#p value is 0.13 so fail to reject null hypothesis they are significantly different"
   ]
  },
  {
   "cell_type": "code",
   "execution_count": null,
   "metadata": {},
   "outputs": [],
   "source": []
  }
 ],
 "metadata": {
  "kernelspec": {
   "display_name": "Python 3",
   "language": "python",
   "name": "python3"
  },
  "language_info": {
   "codemirror_mode": {
    "name": "ipython",
    "version": 3
   },
   "file_extension": ".py",
   "mimetype": "text/x-python",
   "name": "python",
   "nbconvert_exporter": "python",
   "pygments_lexer": "ipython3",
   "version": "3.8.8"
  }
 },
 "nbformat": 4,
 "nbformat_minor": 4
}
